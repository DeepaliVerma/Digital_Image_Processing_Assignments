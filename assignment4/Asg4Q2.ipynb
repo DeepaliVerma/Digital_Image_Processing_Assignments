{
 "cells": [
  {
   "cell_type": "code",
   "execution_count": 1,
   "metadata": {},
   "outputs": [],
   "source": [
    "import numpy as np\n",
    "import cv2 \n",
    "import matplotlib.pyplot as plt\n",
    "import matplotlib.cm as cm"
   ]
  },
  {
   "cell_type": "code",
   "execution_count": 2,
   "metadata": {},
   "outputs": [],
   "source": [
    "def unite(a, linked):\n",
    "    if linked[a] == a:\n",
    "        return a\n",
    "    else:\n",
    "        linked[a] = unite(linked[a], linked)\n",
    "        return linked[a]\n",
    "def unionSet(a, b, linked):\n",
    "    linked[unite(a, linked)] = unite(b, linked)"
   ]
  },
  {
   "cell_type": "code",
   "execution_count": 3,
   "metadata": {},
   "outputs": [],
   "source": [
    "def connComponents(im):\n",
    "    next_label = 1;\n",
    "    labels = np.zeros(im.shape, dtype=int)\n",
    "    linked = [0]\n",
    "    h, w = im.shape\n",
    "    for row in range(h):\n",
    "        for column in range(w):\n",
    "            if im[row, column] != 0:\n",
    "                neighbors = []\n",
    "                if row > 0:\n",
    "                    if im[row-1][column] == im[row, column]:\n",
    "                        neighbors.append((row-1, column))\n",
    "                if row > 0 and column + 1 < im.shape[1]:\n",
    "                    if im[row-1, column+1] == im[row, column]:\n",
    "                        neighbors.append((row-1, column+1))\n",
    "                if row > 0 and column > 0:\n",
    "                    if im[row-1, column-1] == im[row, column]:\n",
    "                        neighbors.append((row-1, column-1))\n",
    "                if column > 0:\n",
    "                    if (im[row, column-1] == im[row, column]):\n",
    "                        neighbors.append((row, column-1))\n",
    "\n",
    "                if len(neighbors) == 0:\n",
    "                    linked.append(next_label)\n",
    "                    labels[row, column] = next_label\n",
    "                    next_label += 1\n",
    "                \n",
    "                else:\n",
    "                    L = [labels[r, c] for r, c in neighbors]\n",
    "                    labels[row, column] = min(L)\n",
    "                    for label in L:\n",
    "                        unionSet(label, labels[row, column], linked)\n",
    "                        \n",
    "    for row in range(im.shape[0]):\n",
    "        for column in range(im.shape[1]):\n",
    "            if im[row, column] != 0:\n",
    "                labels[row, column] = unite(labels[row, column], linked)\n",
    "    return labels"
   ]
  },
  {
   "cell_type": "code",
   "execution_count": 4,
   "metadata": {},
   "outputs": [
    {
     "data": {
      "text/plain": [
       "<matplotlib.image.AxesImage at 0x7fbc624ffda0>"
      ]
     },
     "execution_count": 4,
     "metadata": {},
     "output_type": "execute_result"
    },
    {
     "data": {
      "image/png": "[encoded data removed]",
      "text/plain": [
       "<Figure size 432x288 with 1 Axes>"
      ]
     },
     "metadata": {
      "needs_background": "light"
     },
     "output_type": "display_data"
    }
   ],
   "source": [
    "im = cv2.imread('./images/kidney.jpg',0);\n",
    "bin_kidney = np.uint8(im > 128)\n",
    "plt.imshow(bin_kidney,cmap = cm.gray)"
   ]
  },
  {
   "cell_type": "code",
   "execution_count": 8,
   "metadata": {},
   "outputs": [
    {
     "data": {
      "text/plain": [
       "dtype('uint8')"
      ]
     },
     "execution_count": 8,
     "metadata": {},
     "output_type": "execute_result"
    }
   ],
   "source": [
    "bin_kidney.dtype"
   ]
  },
  {
   "cell_type": "code",
   "execution_count": 5,
   "metadata": {},
   "outputs": [
    {
     "data": {
      "text/plain": [
       "<matplotlib.image.AxesImage at 0x7fbc60c9db70>"
      ]
     },
     "execution_count": 5,
     "metadata": {},
     "output_type": "execute_result"
    },
    {
     "data": {
      "image/png": "[encoded data removed]",
      "text/plain": [
       "<Figure size 432x288 with 1 Axes>"
      ]
     },
     "metadata": {
      "needs_background": "light"
     },
     "output_type": "display_data"
    }
   ],
   "source": [
    "opener = 16\n",
    "closer = 3\n",
    "\n",
    "open_ellipse = cv2.getStructuringElement(cv2.MORPH_ELLIPSE, (opener,opener))\n",
    "close_ellipse = cv2.getStructuringElement(cv2.MORPH_ELLIPSE, (closer, closer))\n",
    "\n",
    "# Opening\n",
    "kidney_open = cv2.erode(bin_kidney,open_ellipse)\n",
    "kidney_open = cv2.dilate(kidney_open,open_ellipse)\n",
    "\n",
    "# Closing\n",
    "kidney_close = cv2.dilate(kidney_open,close_ellipse)\n",
    "kidney_close = cv2.erode(kidney_open,close_ellipse)\n",
    "\n",
    "plt.imshow(kidney_close,cmap=cm.gray)"
   ]
  },
  {
   "cell_type": "code",
   "execution_count": 6,
   "metadata": {},
   "outputs": [],
   "source": [
    "labelled = connComponents(kidney_close)"
   ]
  },
  {
   "cell_type": "code",
   "execution_count": 7,
   "metadata": {},
   "outputs": [
    {
     "data": {
      "text/plain": [
       "<matplotlib.image.AxesImage at 0x7fbc60c04860>"
      ]
     },
     "execution_count": 7,
     "metadata": {},
     "output_type": "execute_result"
    },
    {
     "data": {
      "image/png": "[encoded data removed]",
      "text/plain": [
       "<Figure size 720x720 with 1 Axes>"
      ]
     },
     "metadata": {
      "needs_background": "light"
     },
     "output_type": "display_data"
    }
   ],
   "source": [
    "plt.figure(figsize = (10,10))\n",
    "plt.imshow(labelled,cmap = cm.nipy_spectral)"
   ]
  }
 ],
 "metadata": {
  "kernelspec": {
   "display_name": "Python 3",
   "language": "python",
   "name": "python3"
  },
  "language_info": {
   "codemirror_mode": {
    "name": "ipython",
    "version": 3
   },
   "file_extension": ".py",
   "mimetype": "text/x-python",
   "name": "python",
   "nbconvert_exporter": "python",
   "pygments_lexer": "ipython3",
   "version": "3.7.3"
  }
 },
 "nbformat": 4,
 "nbformat_minor": 2
}
