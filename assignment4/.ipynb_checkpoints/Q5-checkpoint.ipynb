{
 "cells": [
  {
   "cell_type": "code",
   "execution_count": 1,
   "metadata": {},
   "outputs": [],
   "source": [
    "import numpy as np\n",
    "import matplotlib.pyplot as plt\n",
    "import matplotlib.cm as cm\n",
    "import matplotlib.colors as colors"
   ]
  },
  {
   "cell_type": "code",
   "execution_count": 2,
   "metadata": {},
   "outputs": [],
   "source": [
    "def display_montage(im1, im2):\n",
    "    fig = plt.figure(figsize=(20,10))\n",
    "    \n",
    "    plt.subplot(1, 2, 1)\n",
    "    plt.axis('off')\n",
    "    plt.title('Original Image');\n",
    "    plt.imshow(im1)\n",
    "    \n",
    "    plt.subplot(1, 2, 2)\n",
    "    plt.axis('off')\n",
    "    plt.title('Perceptually Uniform Image')\n",
    "    plt.imshow(im2/255)\n",
    "    "
   ]
  },
  {
   "cell_type": "code",
   "execution_count": 3,
   "metadata": {},
   "outputs": [],
   "source": [
    "def vary_H(rgb_out, per_out):\n",
    "    for num in range(10):\n",
    "        t_im = np.zeros((100, 100, 3),dtype='double')\n",
    "        t_im[:, :, :] = 1.0\n",
    "        t_im[:, :, 0] = (120.0 + (num * 120.0/9))/360\n",
    "        \n",
    "        start = num * 100\n",
    "        end = (num + 1)*100\n",
    "        \n",
    "        h, w, ch = t_im.shape\n",
    "        \n",
    "        for i in range(h):\n",
    "            for j in range(w):\n",
    "                t_im[i,j] = np.array(colors.hsv_to_rgb(t_im[i,j].reshape(-1)))\n",
    "        rgb_out[:, start:end, :] = t_im\n",
    "        \n",
    "        c = num * 255.0/9\n",
    "        per_out[:, start:end, 0] = 0\n",
    "        per_out[:, start:end, 1] = 255 - c\n",
    "        per_out[:, start:end, 2] = c\n",
    "    return rgb_out, per_out\n"
   ]
  },
  {
   "cell_type": "code",
   "execution_count": 4,
   "metadata": {},
   "outputs": [],
   "source": [
    "rgb_in = np.zeros([100, 1000, 3]).astype('double')\n",
    "per_in = np.zeros([100, 1000, 3]).astype('double')\n",
    "rgb_out, per_out = vary_H(rgb_in, per_in)\n"
   ]
  },
  {
   "cell_type": "code",
   "execution_count": 5,
   "metadata": {},
   "outputs": [
    {
     "data": {
      "image/png": "[encoded data removed]",
      "text/plain": [
       "<Figure size 1440x720 with 2 Axes>"
      ]
     },
     "metadata": {},
     "output_type": "display_data"
    }
   ],
   "source": [
    "display_montage(rgb_out, per_out)"
   ]
  },
  {
   "cell_type": "markdown",
   "metadata": {},
   "source": [
    "**What are your observations about change in hue with uniform increase in H step\n",
    "size? Do you observe the change in hue to be perceptually uniform?**\n",
    "-    In HSI, we observe that the colors change from green to blue, they appear to change a lot more towards the end of the strip. The green colors **look almost identical**, while the **blue colors are more diverse**. \n",
    "It also has a lot of variation in the lightness of the colors, with the cyan colors in the middle looking brighter than the blue colors. This happens because the default HSI color space is irregular, which means that even though the rectangles have evenly spaced hue values, the corresponding effect is not linear to the human eye.\n"
   ]
  },
  {
   "cell_type": "code",
   "execution_count": null,
   "metadata": {},
   "outputs": [],
   "source": []
  }
 ],
 "metadata": {
  "kernelspec": {
   "display_name": "Python 3",
   "language": "python",
   "name": "python3"
  },
  "language_info": {
   "codemirror_mode": {
    "name": "ipython",
    "version": 3
   },
   "file_extension": ".py",
   "mimetype": "text/x-python",
   "name": "python",
   "nbconvert_exporter": "python",
   "pygments_lexer": "ipython3",
   "version": "3.5.2"
  }
 },
 "nbformat": 4,
 "nbformat_minor": 2
}
