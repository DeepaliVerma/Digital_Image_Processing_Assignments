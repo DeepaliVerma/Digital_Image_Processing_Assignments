{
 "cells": [
  {
   "cell_type": "code",
   "execution_count": 2,
   "metadata": {},
   "outputs": [],
   "source": [
    "import numpy as np\n",
    "import matplotlib.pyplot as plt\n",
    "import cv2 as cv\n",
    "from scipy.signal import convolve2d\n",
    "from scipy.ndimage import rotate\n",
    "from skimage.color import rgb2gray, label2rgb\n",
    "from skimage.util import img_as_ubyte, img_as_float64\n",
    "from skimage.measure import label\n",
    "from skimage.exposure import rescale_intensity\n",
    "import copy"
   ]
  },
  {
   "cell_type": "markdown",
   "metadata": {},
   "source": [
    "# Importing images"
   ]
  },
  {
   "cell_type": "code",
   "execution_count": 3,
   "metadata": {},
   "outputs": [],
   "source": [
    "coins = cv.imread('../input_data/coins.jpg')\n",
    "kidney = cv.imread('../input_data/kidney.jpg')\n",
    "objects = cv.imread('../input_data/objects.png')\n",
    "thumb = cv.imread('../input_data/thumb.jpg')\n",
    "disc = cv.imread('../input_data/disc.jpeg')\n",
    "star = cv.imread('../input_data/star.jpeg')\n",
    "needle = cv.imread('../input_data/needle.jpeg')\n",
    "quote = cv.imread('../input_data/quote.png')\n",
    "indian_lang = cv.imread('../input_data/indian_lang.jpeg')\n",
    "tamil = cv.imread('../input_data/tamil.jpeg')"
   ]
  },
  {
   "cell_type": "markdown",
   "metadata": {},
   "source": [
    "# Binary Images"
   ]
  },
  {
   "cell_type": "code",
   "execution_count": 4,
   "metadata": {},
   "outputs": [
    {
     "name": "stderr",
     "output_type": "stream",
     "text": [
      "/home/adhithya/anaconda3/lib/python3.7/site-packages/skimage/util/dtype.py:135: UserWarning: Possible precision loss when converting from float64 to uint8\n",
      "  .format(dtypeobj_in, dtypeobj_out))\n"
     ]
    }
   ],
   "source": [
    "bin_coins = (img_as_ubyte(rgb2gray(coins)) > 128).astype(np.uint8)\n",
    "bin_kidney = (img_as_ubyte(rgb2gray(kidney)) > 128).astype(np.uint8)\n",
    "bin_objects = (img_as_ubyte(rgb2gray(objects)) > 128).astype(np.uint8)\n",
    "bin_thumb = (img_as_ubyte(rgb2gray(thumb)) < 128).astype(np.uint8)\n",
    "bin_disc = (img_as_ubyte(rgb2gray(disc)) < 128).astype(np.uint8)\n",
    "bin_star = (img_as_ubyte(rgb2gray(star)) < 128).astype(np.uint8)\n",
    "bin_needle = (img_as_ubyte(rgb2gray(needle)) < 128).astype(np.uint8)\n",
    "bin_quote = (img_as_ubyte(rgb2gray(quote)) < 128).astype(np.uint8)\n",
    "bin_indian_lang = (img_as_ubyte(rgb2gray(indian_lang)) < 80).astype(np.uint8)\n",
    "bin_tamil = (img_as_ubyte(rgb2gray(tamil)) < 128).astype(np.uint8)"
   ]
  },
  {
   "cell_type": "markdown",
   "metadata": {},
   "source": [
    "# Common Functions"
   ]
  },
  {
   "cell_type": "code",
   "execution_count": 5,
   "metadata": {},
   "outputs": [],
   "source": [
    "def opening(image=None, structuringElements=None, iterations=(1, 1)):\n",
    "    if image is None:\n",
    "        return None\n",
    "    elif structuringElements is None:\n",
    "        return image\n",
    "    elif type(structuringElements) == list and len(structuringElements) == 2:\n",
    "        eroded = cv.erode(image, structuringElements[0], iterations=iterations[0])\n",
    "        dilated = cv.dilate(eroded, structuringElements[1], iterations=iterations[1])\n",
    "        return dilated\n",
    "    else:\n",
    "        eroded = cv.erode(image, structuringElements, iterations=iterations[0])\n",
    "        dilated = cv.dilate(eroded, structuringElements, iterations=iterations[1])\n",
    "        return dilated"
   ]
  },
  {
   "cell_type": "code",
   "execution_count": 6,
   "metadata": {},
   "outputs": [],
   "source": [
    "def closing(image=None, structuringElements=None, iterations=(1, 1)):\n",
    "    if image is None:\n",
    "        return None\n",
    "    elif structuringElements is None:\n",
    "        return image\n",
    "    elif type(structuringElements) == list and len(structuringElements) == 2:\n",
    "        dilated = cv.dilate(image, structuringElements[0], iterations=iterations[0])\n",
    "        eroded = cv.erode(dilated, structuringElements[1], iterations=iterations[1])\n",
    "        return eroded\n",
    "    else:\n",
    "        dilated = cv.dilate(image, structuringElements, iterations=iterations[0])\n",
    "        eroded = cv.erode(dilated, structuringElements, iterations=iterations[1])\n",
    "        return eroded"
   ]
  },
  {
   "cell_type": "code",
   "execution_count": 7,
   "metadata": {},
   "outputs": [],
   "source": [
    "def check_match(image=None, s=None):\n",
    "    flag = False\n",
    "    if image is not None and s is not None:\n",
    "        flag = True\n",
    "        for x in range(s.shape[0]):\n",
    "            for y in range(s.shape[0]):\n",
    "                if s[x, y] == -1:\n",
    "                    continue\n",
    "                elif image[x, y] != s[x, y]:\n",
    "                    flag = False\n",
    "                    break\n",
    "            if flag is False:\n",
    "                break\n",
    "    return flag"
   ]
  },
  {
   "cell_type": "code",
   "execution_count": 8,
   "metadata": {},
   "outputs": [],
   "source": [
    "def apply_structuring_element(image=None, s=None):\n",
    "    size = image.shape\n",
    "    result = copy.deepcopy(image)\n",
    "    if (image is not None) and (s is not None):\n",
    "        l = np.floor(s.shape[0] / 2).astype(int)\n",
    "        for i in range(l, size[0] - l):\n",
    "            for j in range(l, size[1] - l):\n",
    "                window = image[i - l : i + l + 1, j - l : j + l + 1]\n",
    "                if check_match(window, s) is True:\n",
    "                    result[i, j] = 0\n",
    "    return result"
   ]
  },
  {
   "cell_type": "code",
   "execution_count": 9,
   "metadata": {},
   "outputs": [],
   "source": [
    "def four_connected(image):\n",
    "    mappings = dict()\n",
    "    rows, cols = image.shape\n",
    "    \n",
    "    connected = np.zeros((rows, cols))\n",
    "    counter = 1\n",
    "    \n",
    "    top = None\n",
    "    left = None\n",
    "    \n",
    "    # Labelize the components\n",
    "    for i in range(rows):\n",
    "        for j in range(cols):\n",
    "            if i != 0 and j != 0:\n",
    "                left = connected[i, j-1]\n",
    "                top = connected[i-1, j]\n",
    "            if image[i, j] == 1:\n",
    "                if i == 0 and j == 0:\n",
    "                    connected[i, j] = counter\n",
    "                elif i == 0 and connected[i, j-1] != 0:\n",
    "                    connected[i, j] = connected[i, j-1]\n",
    "                elif j == 0 and connected[i-1, j] != 0:\n",
    "                    connected[i, j] = connected[i-1, j]\n",
    "                elif top == 0 and left != 0:\n",
    "                    connected[i, j] = left\n",
    "                elif left == 0 and top != 0:\n",
    "                    connected[i, j] = top\n",
    "                elif top != left:\n",
    "                    mappings[np.max([top, left]).astype(int)] = np.min([top, left]).astype(int)\n",
    "                    connected[i, j] = np.min([top, left]).astype(int)\n",
    "                else:\n",
    "                    counter += 1\n",
    "                    connected[i, j] = counter\n",
    "    \n",
    "    # Check & resolve mappings\n",
    "    for i in range(rows):\n",
    "        for j in range(cols):\n",
    "            curr = connected[i, j]\n",
    "            if curr != 0:\n",
    "                while curr in mappings:\n",
    "                    curr = mappings[curr]\n",
    "                connected[i, j] = curr\n",
    "\n",
    "    return connected"
   ]
  },
  {
   "cell_type": "code",
   "execution_count": 10,
   "metadata": {},
   "outputs": [],
   "source": [
    "def eight_connected(image, start=1):\n",
    "    mapping = dict()\n",
    "    rows, cols = image.shape\n",
    "    \n",
    "    # Zero padding last row & column\n",
    "    image = np.pad(image, (0, 1), 'constant')\n",
    "    connected = np.zeros((rows+1, cols+1))\n",
    "    counter = start\n",
    "    \n",
    "    top = 0\n",
    "    left = 0\n",
    "    d_left = 0\n",
    "    d_right = 0\n",
    "    \n",
    "    # Labelize the components\n",
    "    for i in range(rows):\n",
    "        for j in range(cols):\n",
    "            if i != 0 and j != 0:\n",
    "                left = connected[i, j-1]\n",
    "                top = connected[i-1, j]\n",
    "                d_left = connected[i-1, j-1]\n",
    "                d_right = connected[i-1, j+1]\n",
    "            if image[i, j] != 0:\n",
    "                if i == 0 and j == 0:\n",
    "                    connected[i, j] = counter\n",
    "                elif i == 0 and connected[i, j-1] != 0:\n",
    "                    connected[i, j] = connected[i, j-1]\n",
    "                elif j == 0 and connected[i-1, j] != 0:\n",
    "                    connected[i, j] = connected[i-1, j]\n",
    "                elif left + d_left + top + d_right > 0:\n",
    "                    point_set = np.array([left, d_left, top, d_right])\n",
    "                    \n",
    "                    if point_set[point_set != 0].shape[0] == 1:\n",
    "                        connected[i, j] = point_set[point_set != 0]\n",
    "                    else:\n",
    "                        connected[i, j] = np.min(point_set[point_set != 0]).astype(int)\n",
    "                    \n",
    "                    for k in point_set:\n",
    "                        if k != 0 and k != connected[i, j]:\n",
    "                            mapping[k] = connected[i, j]\n",
    "                else:\n",
    "                    counter += 1\n",
    "                    connected[i, j] = counter\n",
    "    \n",
    "    # Check & resolve mappings\n",
    "    for i in range(rows):\n",
    "        for j in range(cols):\n",
    "            curr = connected[i, j]\n",
    "            if curr != 0:\n",
    "                while curr in mapping:\n",
    "                    curr = mapping[curr]\n",
    "                connected[i, j] = curr\n",
    "    \n",
    "    return connected[:connected.shape[0]-1, :connected.shape[1]-1]"
   ]
  },
  {
   "cell_type": "code",
   "execution_count": null,
   "metadata": {},
   "outputs": [],
   "source": []
  },
  {
   "cell_type": "markdown",
   "metadata": {},
   "source": [
    "# Question 4: Morphological Operations"
   ]
  },
  {
   "cell_type": "markdown",
   "metadata": {},
   "source": [
    "## 4.1: Counting Objects with holes"
   ]
  },
  {
   "cell_type": "code",
   "execution_count": 11,
   "metadata": {},
   "outputs": [],
   "source": [
    "# Structuring Elements\n",
    "ellipse = cv.getStructuringElement(cv.MORPH_ELLIPSE, (3, 3))"
   ]
  },
  {
   "cell_type": "code",
   "execution_count": 12,
   "metadata": {},
   "outputs": [],
   "source": [
    "neg_bin_obj = eight_connected(1 - bin_objects)"
   ]
  },
  {
   "cell_type": "code",
   "execution_count": 13,
   "metadata": {},
   "outputs": [],
   "source": [
    "# Isolate holes\n",
    "neg_bin_obj[neg_bin_obj < 2] = 0\n",
    "unique, count = np.unique(neg_bin_obj, return_counts=True)\n",
    "# for i in range(unique.shape[0]):\n",
    "#     if count[i] < 10:\n",
    "#         neg_bin_obj[neg_bin_obj == unique[i]] = 0\n",
    "neg_bin_obj[neg_bin_obj != 0] = 1"
   ]
  },
  {
   "cell_type": "code",
   "execution_count": 14,
   "metadata": {},
   "outputs": [],
   "source": [
    "restored = closing(neg_bin_obj + bin_objects, ellipse)"
   ]
  },
  {
   "cell_type": "code",
   "execution_count": 15,
   "metadata": {},
   "outputs": [
    {
     "data": {
      "image/png": "[encoded data removed]",
      "text/plain": [
       "<Figure size 1080x1080 with 2 Axes>"
      ]
     },
     "metadata": {
      "needs_background": "light"
     },
     "output_type": "display_data"
    }
   ],
   "source": [
    "plt.figure(figsize=(15, 15))\n",
    "plt.subplot(1, 2, 1)        \n",
    "plt.imshow(bin_objects, cmap='gray')\n",
    "plt.title('All Objects Pre-restoration')\n",
    "plt.subplot(1, 2, 2)\n",
    "plt.imshow(restored, cmap='gray')\n",
    "plt.title('All Objects Restored')\n",
    "plt.show()"
   ]
  },
  {
   "cell_type": "code",
   "execution_count": 16,
   "metadata": {},
   "outputs": [],
   "source": [
    "orig_connected = eight_connected(bin_objects)\n",
    "rest_connected = eight_connected(restored)"
   ]
  },
  {
   "cell_type": "code",
   "execution_count": 17,
   "metadata": {},
   "outputs": [],
   "source": [
    "masked = rest_connected * bin_objects"
   ]
  },
  {
   "cell_type": "code",
   "execution_count": 18,
   "metadata": {
    "scrolled": false
   },
   "outputs": [
    {
     "data": {
      "image/png": "[encoded data removed]",
      "text/plain": [
       "<Figure size 1080x1080 with 2 Axes>"
      ]
     },
     "metadata": {
      "needs_background": "light"
     },
     "output_type": "display_data"
    }
   ],
   "source": [
    "plt.figure(figsize=(15, 15))\n",
    "plt.subplot(1, 2, 1)\n",
    "plt.imshow(rest_connected, cmap='nipy_spectral')\n",
    "plt.title('All Objects Restored (Labelled)')\n",
    "plt.subplot(1, 2, 2)\n",
    "plt.imshow(masked, cmap='nipy_spectral')\n",
    "plt.title('All Objects Pre-restoration (Labelled)')\n",
    "plt.show()"
   ]
  },
  {
   "cell_type": "code",
   "execution_count": 19,
   "metadata": {},
   "outputs": [],
   "source": [
    "mask_unique, mask_count = np.unique(masked, return_counts=True)\n",
    "rest_unique, rest_count = np.unique(rest_connected, return_counts=True)"
   ]
  },
  {
   "cell_type": "code",
   "execution_count": 20,
   "metadata": {},
   "outputs": [
    {
     "name": "stdout",
     "output_type": "stream",
     "text": [
      "Number of objects with holes in them: 6\n"
     ]
    }
   ],
   "source": [
    "diff = rest_count - mask_count\n",
    "new_unique = rest_unique[diff > 0]\n",
    "print('Number of objects with holes in them: {}'.format(diff[diff > 10].shape[0]))"
   ]
  },
  {
   "cell_type": "code",
   "execution_count": 21,
   "metadata": {},
   "outputs": [],
   "source": [
    "holed = np.zeros(rest_connected.shape)\n",
    "for i in range(new_unique.shape[0]):\n",
    "    holed[rest_connected == new_unique[i]] = 1"
   ]
  },
  {
   "cell_type": "code",
   "execution_count": 22,
   "metadata": {},
   "outputs": [
    {
     "data": {
      "image/png": "[encoded data removed]",
      "text/plain": [
       "<Figure size 1080x1080 with 2 Axes>"
      ]
     },
     "metadata": {
      "needs_background": "light"
     },
     "output_type": "display_data"
    }
   ],
   "source": [
    "plt.figure(figsize=(15, 15))\n",
    "plt.subplot(1, 2, 1)\n",
    "plt.imshow(bin_objects, cmap='gray')\n",
    "plt.title('All Objects (Pre-restoration)')\n",
    "plt.subplot(1, 2, 2)\n",
    "plt.imshow(holed, cmap='gray')\n",
    "plt.title('All Objects with holes')\n",
    "plt.show()"
   ]
  },
  {
   "cell_type": "markdown",
   "metadata": {},
   "source": [
    "## 4.2: Counting Square Objects"
   ]
  },
  {
   "cell_type": "code",
   "execution_count": 23,
   "metadata": {},
   "outputs": [],
   "source": [
    "applied = apply_structuring_element(restored, np.array([[1, 1, 1], [1, -1, -1], [1, -1, -1]]))\n",
    "for i in range(20):\n",
    "    applied = apply_structuring_element(applied, np.array([[1, 1, 1], [1, -1, -1], [1, -1, -1]]))"
   ]
  },
  {
   "cell_type": "code",
   "execution_count": 24,
   "metadata": {},
   "outputs": [],
   "source": [
    "colored = eight_connected(1 - applied)\n",
    "unique, count = np.unique(colored[colored > 1], return_counts=True)\n",
    "unique = unique[count > 10]\n",
    "\n",
    "cleared = np.zeros(colored.shape)\n",
    "for i in range(unique.shape[0]):\n",
    "    cleared[colored == unique[i]] = 1"
   ]
  },
  {
   "cell_type": "code",
   "execution_count": 25,
   "metadata": {},
   "outputs": [
    {
     "data": {
      "image/png": "[encoded data removed]",
      "text/plain": [
       "<Figure size 1080x1080 with 2 Axes>"
      ]
     },
     "metadata": {
      "needs_background": "light"
     },
     "output_type": "display_data"
    }
   ],
   "source": [
    "plt.figure(figsize=(15, 15))\n",
    "plt.subplot(1, 2, 1)\n",
    "plt.imshow(restored, cmap='gray')\n",
    "plt.title('All Objects (Restored)')\n",
    "plt.subplot(1, 2, 2)\n",
    "plt.imshow(cleared, cmap='gray')\n",
    "plt.title('Square Objects Only')\n",
    "plt.show()"
   ]
  },
  {
   "cell_type": "code",
   "execution_count": 26,
   "metadata": {},
   "outputs": [],
   "source": [
    "counting = eight_connected(cleared)"
   ]
  },
  {
   "cell_type": "code",
   "execution_count": 27,
   "metadata": {},
   "outputs": [
    {
     "data": {
      "image/png": "[encoded data removed]",
      "text/plain": [
       "<Figure size 1080x1080 with 2 Axes>"
      ]
     },
     "metadata": {
      "needs_background": "light"
     },
     "output_type": "display_data"
    }
   ],
   "source": [
    "plt.figure(figsize=(15, 15))\n",
    "plt.subplot(1, 2, 1)\n",
    "plt.imshow(cleared, cmap='gray')\n",
    "plt.title('All Square Objects')\n",
    "plt.subplot(1, 2, 2)\n",
    "plt.imshow(counting, cmap='nipy_spectral')\n",
    "plt.title('All Square Objects Labelled')\n",
    "plt.show()"
   ]
  },
  {
   "cell_type": "code",
   "execution_count": 28,
   "metadata": {},
   "outputs": [
    {
     "name": "stdout",
     "output_type": "stream",
     "text": [
      "Number of Squares: 11\n"
     ]
    }
   ],
   "source": [
    "unique, count = np.unique(counting[counting > 0], return_counts=True)\n",
    "print('Number of Squares: {}'.format(unique.shape[0]))"
   ]
  },
  {
   "cell_type": "markdown",
   "metadata": {},
   "source": [
    "## 4.3: Counting Square Objects with holes"
   ]
  },
  {
   "cell_type": "code",
   "execution_count": 29,
   "metadata": {},
   "outputs": [
    {
     "data": {
      "image/png": "[encoded data removed]",
      "text/plain": [
       "<Figure size 1080x1080 with 2 Axes>"
      ]
     },
     "metadata": {
      "needs_background": "light"
     },
     "output_type": "display_data"
    }
   ],
   "source": [
    "plt.figure(figsize=(15, 15))\n",
    "plt.subplot(1, 2, 1)\n",
    "plt.imshow(cleared, cmap='gray')\n",
    "plt.title('All Square Objects')\n",
    "plt.subplot(1, 2, 2)\n",
    "plt.imshow(cleared * holed, cmap='gray')\n",
    "plt.title('Square Objects with holes')\n",
    "plt.show()"
   ]
  },
  {
   "cell_type": "markdown",
   "metadata": {},
   "source": [
    "## 4.4: Circular Objects without holes"
   ]
  },
  {
   "cell_type": "code",
   "execution_count": 30,
   "metadata": {},
   "outputs": [],
   "source": [
    "circles = restored + cleared\n",
    "circles[np.logical_or(circles == 0, circles == 2)] = 0\n",
    "eroded = cv.erode(circles, cv.getStructuringElement(cv.MORPH_RECT, (2, 2)))"
   ]
  },
  {
   "cell_type": "code",
   "execution_count": 31,
   "metadata": {},
   "outputs": [
    {
     "data": {
      "image/png": "[encoded data removed]",
      "text/plain": [
       "<Figure size 1080x1080 with 2 Axes>"
      ]
     },
     "metadata": {
      "needs_background": "light"
     },
     "output_type": "display_data"
    }
   ],
   "source": [
    "plt.figure(figsize=(15, 15))\n",
    "plt.subplot(1, 2, 1)\n",
    "plt.imshow(eroded * bin_objects, cmap='gray')\n",
    "plt.title('Circular Objects Only')\n",
    "plt.subplot(1, 2, 2)\n",
    "plt.imshow(eroded * (restored - holed), cmap='gray')\n",
    "plt.title('Circular Objects without holes')\n",
    "plt.show()"
   ]
  }
 ],
 "metadata": {
  "kernelspec": {
   "display_name": "Python 3",
   "language": "python",
   "name": "python3"
  },
  "language_info": {
   "codemirror_mode": {
    "name": "ipython",
    "version": 3
   },
   "file_extension": ".py",
   "mimetype": "text/x-python",
   "name": "python",
   "nbconvert_exporter": "python",
   "pygments_lexer": "ipython3",
   "version": "3.7.3"
  }
 },
 "nbformat": 4,
 "nbformat_minor": 2
}
